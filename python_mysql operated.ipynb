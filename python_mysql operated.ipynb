{
 "cells": [
  {
   "cell_type": "markdown",
   "metadata": {},
   "source": [
    "## install MySQLdb\n",
    "### http://www.codegood.com/archives/129  安裝套件\n",
    "### http://blog.sina.com.cn/s/blog_4cfe78830102vx4e.html\n",
    "### http://www.runoob.com/python/python-mysql.html"
   ]
  },
  {
   "cell_type": "markdown",
   "metadata": {},
   "source": [
    "## 創建表格"
   ]
  },
  {
   "cell_type": "code",
   "execution_count": 3,
   "metadata": {
    "collapsed": false
   },
   "outputs": [],
   "source": [
    "import MySQLdb\n",
    "\n",
    "db = MySQLdb.connect(\"localhost\",\"root\",\"password\",\"database\",use_unicode=True, charset=\"utf8\" )\n",
    "cursor = db.cursor()\n",
    "\n",
    "# 1標題,2商品網址,3尚餘數量,4已賣數量,5價錢,6賣家名字,7上次登入時間,8賣家評價,9最後出價時間,10問答次數,11出價紀錄,12圖片網址,13內文\n",
    "# 创建数据表SQL语句\n",
    "sql = \"\"\"CREATE TABLE earphone (\n",
    "         Title_id VARCHAR(30) NOT NULL Primary Key,\n",
    "         Title TEXT NOT NULL,\n",
    "         PRO_webads VARCHAR(200),\n",
    "         left_num int,\n",
    "         sold_num int,\n",
    "         Price int,\n",
    "         SELLER_NAME VARCHAR(30) ,\n",
    "         SELLER_lastlogin VARCHAR(30),\n",
    "         SELLER_assess int,\n",
    "         PRO_lastpricetime VARCHAR(30) ,\n",
    "         q_times int,\n",
    "         price_times int,\n",
    "         pic_web VARCHAR(100),\n",
    "         inner_content TEXT \n",
    "         )\"\"\"\n",
    "\n",
    "cursor.execute(sql)\n",
    "\n",
    "# 关闭数据库连接\n",
    "db.close()"
   ]
  },
  {
   "cell_type": "markdown",
   "metadata": {},
   "source": [
    "## 刪除表格"
   ]
  },
  {
   "cell_type": "code",
   "execution_count": 355,
   "metadata": {
    "collapsed": false
   },
   "outputs": [],
   "source": [
    "import MySQLdb\n",
    "\n",
    "db = MySQLdb.connect(\"localhost\",\"root\",\"password\",\"database\",use_unicode=True, charset=\"utf8\" )\n",
    "cursor = db.cursor()\n",
    "\n",
    "# 如果数据表已经存在使用 execute() 方法删除表。\n",
    "cursor.execute(\"DROP TABLE IF EXISTS earphone\")\n",
    "\n",
    "# 关闭数据库连接\n",
    "db.close()"
   ]
  },
  {
   "cell_type": "markdown",
   "metadata": {},
   "source": [
    "## 匯入資料"
   ]
  },
  {
   "cell_type": "code",
   "execution_count": 357,
   "metadata": {
    "collapsed": false
   },
   "outputs": [],
   "source": [
    "import MySQLdb\n",
    "import os, sys\n",
    "\n",
    "##                      IP            名稱     密碼       資料庫\n",
    "db = MySQLdb.connect(\"localhost\",\"root\",\"password\",\"database\",use_unicode=True, charset=\"utf8\" )\n",
    "\n",
    "# 使用cursor()方法获取操作游标 \n",
    "cursor = db.cursor()\n",
    "# try:\n",
    "# 使用execute方法执行SQL语句\n",
    "cursor.execute(\"load data local infile 'C:/Users/xxx.txt' replace into table earphone fields terminated by '_|' lines terminated by '_|\\r\\n'\")\n",
    "\n",
    "# 提交到数据库执行\n",
    "db.commit()\n",
    "# except:\n",
    "#     print 'failed'\n",
    "#     db.rollback()\n",
    "\n",
    "# 关闭数据库连接\n",
    "db.close()"
   ]
  },
  {
   "cell_type": "code",
   "execution_count": 15,
   "metadata": {
    "collapsed": true
   },
   "outputs": [],
   "source": [
    "\n",
    "with open('C:/Users/allraw_data.txt','r') as f:\n",
    "    for ele in f:\n",
    "        ele.decode('utf-8')\n",
    "        \n"
   ]
  },
  {
   "cell_type": "markdown",
   "metadata": {
    "collapsed": true
   },
   "source": [
    "## 查詢資料"
   ]
  },
  {
   "cell_type": "code",
   "execution_count": 2,
   "metadata": {
    "collapsed": true
   },
   "outputs": [],
   "source": [
    "import MySQLdb\n",
    "\n",
    "db = MySQLdb.connect(\"localhost\",\"root\",\"password\",\"database\",use_unicode=True, charset=\"utf8\" )\n",
    "cursor = db.cursor()\n",
    "\n",
    "# SQL 查询语句\n",
    "sql = \"SELECT inner_content FROM earphone limit 5\"\n",
    "\n",
    "try:\n",
    "    cursor.execute(sql)\n",
    "    results = cursor.fetchall()\n",
    "\n",
    "    for row in results:\n",
    "        content = row[0]\n",
    "        print content\n",
    "\n",
    "except:\n",
    "    print \"Error: unable to fecth data\"\n",
    "\n",
    "# 关闭数据库连接\n",
    "db.close()"
   ]
  },
  {
   "cell_type": "code",
   "execution_count": null,
   "metadata": {
    "collapsed": true
   },
   "outputs": [],
   "source": []
  }
 ],
 "metadata": {
  "kernelspec": {
   "display_name": "Python 2",
   "language": "python",
   "name": "python2"
  },
  "language_info": {
   "codemirror_mode": {
    "name": "ipython",
    "version": 2
   },
   "file_extension": ".py",
   "mimetype": "text/x-python",
   "name": "python",
   "nbconvert_exporter": "python",
   "pygments_lexer": "ipython2",
   "version": "2.7.11"
  }
 },
 "nbformat": 4,
 "nbformat_minor": 0
}
